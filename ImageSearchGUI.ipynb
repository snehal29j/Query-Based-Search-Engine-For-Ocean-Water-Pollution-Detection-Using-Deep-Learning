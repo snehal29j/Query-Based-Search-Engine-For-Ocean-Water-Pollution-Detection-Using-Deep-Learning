{
 "cells": [
  {
   "cell_type": "code",
   "execution_count": 4,
   "id": "5ec9984d",
   "metadata": {},
   "outputs": [
    {
     "ename": "ModuleNotFoundError",
     "evalue": "No module named 'flask_pymongo'",
     "output_type": "error",
     "traceback": [
      "\u001b[1;31m---------------------------------------------------------------------------\u001b[0m",
      "\u001b[1;31mModuleNotFoundError\u001b[0m                       Traceback (most recent call last)",
      "Input \u001b[1;32mIn [4]\u001b[0m, in \u001b[0;36m<cell line: 9>\u001b[1;34m()\u001b[0m\n\u001b[0;32m      7\u001b[0m \u001b[38;5;28;01mfrom\u001b[39;00m \u001b[38;5;21;01msklearn\u001b[39;00m\u001b[38;5;21;01m.\u001b[39;00m\u001b[38;5;21;01mmetrics\u001b[39;00m\u001b[38;5;21;01m.\u001b[39;00m\u001b[38;5;21;01mpairwise\u001b[39;00m \u001b[38;5;28;01mimport\u001b[39;00m cosine_similarity\n\u001b[0;32m      8\u001b[0m \u001b[38;5;28;01mimport\u001b[39;00m \u001b[38;5;21;01mpymongo\u001b[39;00m\n\u001b[1;32m----> 9\u001b[0m \u001b[38;5;28;01mfrom\u001b[39;00m \u001b[38;5;21;01mflask_pymongo\u001b[39;00m \u001b[38;5;28;01mimport\u001b[39;00m pymongo\n\u001b[0;32m     10\u001b[0m \u001b[38;5;28;01mfrom\u001b[39;00m \u001b[38;5;21;01mtensorflow\u001b[39;00m\u001b[38;5;21;01m.\u001b[39;00m\u001b[38;5;21;01mkeras\u001b[39;00m\u001b[38;5;21;01m.\u001b[39;00m\u001b[38;5;21;01mpreprocessing\u001b[39;00m \u001b[38;5;28;01mimport\u001b[39;00m image\n\u001b[0;32m     11\u001b[0m \u001b[38;5;28;01mfrom\u001b[39;00m \u001b[38;5;21;01mtensorflow\u001b[39;00m\u001b[38;5;21;01m.\u001b[39;00m\u001b[38;5;21;01mkeras\u001b[39;00m\u001b[38;5;21;01m.\u001b[39;00m\u001b[38;5;21;01mapplications\u001b[39;00m\u001b[38;5;21;01m.\u001b[39;00m\u001b[38;5;21;01mvgg16\u001b[39;00m \u001b[38;5;28;01mimport\u001b[39;00m preprocess_input\n",
      "\u001b[1;31mModuleNotFoundError\u001b[0m: No module named 'flask_pymongo'"
     ]
    }
   ],
   "source": [
    "from flask import Flask, render_template, request\n",
    "from keras.models import load_model\n",
    "import tensorflow as tf\n",
    "#from tensorflow.keras.utils import load_img\n",
    "from keras.utils import load_img , img_to_array\n",
    "import numpy as np\n",
    "from sklearn.metrics.pairwise import cosine_similarity\n",
    "import pymongo\n",
    "from flask_pymongo import pymongo\n",
    "from tensorflow.keras.preprocessing import image\n",
    "from tensorflow.keras.applications.vgg16 import preprocess_input\n",
    "import base64\n",
    "import matplotlib\n",
    "import matplotlib.pyplot as plt\n",
    "from PIL import Image\n",
    "import io\n",
    "import imghdr\n",
    "import cv2\n",
    "from io import BytesIO\n",
    "\n",
    "\n",
    "app = Flask(__name__,template_folder='templates',static_url_path='/static')\n",
    "\n",
    "class_indices ={0 : 'AlgaeBloom', 1 : 'MarineDebris', 2 : 'OilSpill'}\n",
    "\n",
    "\n",
    "model = load_model('model.h5')\n",
    "model.compile(optimizer='adam', loss='categorical_crossentropy', metrics=['accuracy'])\n",
    "model.make_predict_function()\n",
    "\n",
    "\n",
    "#Connect to MongoDB database\n",
    "client = pymongo.MongoClient('mongodb://localhost:27017/')\n",
    "db = client['finaldb']\n",
    "    \n",
    "# Load all feature vectors from the database into a NumPy array\n",
    "def get_database_features(class_label):\n",
    "    #Connect to MongoDB database\n",
    "    client = pymongo.MongoClient('mongodb://localhost:27017/')\n",
    "    db = client['finaldb']\n",
    "    \n",
    "    \n",
    "    #get database features array\n",
    "    features_list = []\n",
    "    images_collection = db[class_label]\n",
    "    for image in images_collection.find():\n",
    "        features_list.append(image['features'])\n",
    "    features_array = np.array(features_list)\n",
    "    features_array=features_array.reshape((features_array.shape[0],-1))\n",
    "    return features_array\n",
    "\n",
    "\n",
    "def predict_input(img_path):\n",
    "    img = load_img(img_path, target_size=(224, 224))\n",
    "#     num_channels=len(img.getbands())\n",
    "#     if num_channels !=3:\n",
    "#         img=img.convert(\"RGB\")\n",
    "    img = img.convert(\"L\")\n",
    "    img = Image.merge(\"RGB\", (img, img, img))\n",
    "    img_array = img_to_array(img)\n",
    "    img_array = np.expand_dims(img_array, axis=0)\n",
    "    img_array = img_array/255\n",
    "    input_features = model.predict(img_array)\n",
    "    input_features=input_features.reshape((input_features.shape[0],-1))\n",
    "    \n",
    "   # print(input_features)\n",
    "    return input_features\n",
    "    \n",
    "# Get the class label\n",
    "def get_class_label(input_features):\n",
    "    class_idx = np.argmax(input_features[0])\n",
    "    print(class_idx)\n",
    "    print(class_indices)\n",
    "    class_label = list(class_indices.values())[class_idx]\n",
    "    print(\"The image belongs to the class:\", class_label)\n",
    "    return class_label\n",
    "    \n",
    "def get_similar_images(input_features, features_array):\n",
    "    input_features = input_features.reshape(1, -1)\n",
    "    similarities = []\n",
    "    sim_score=[]\n",
    "    for features in features_array:\n",
    "        similarity = cosine_similarity(input_features, features.reshape(1, -1))[0, 0]\n",
    "        similarities.append(similarity)\n",
    "    # Find the indices of the top 5 most similar images\n",
    "    top_indices = np.argsort(similarities)[-5:][::-1]\n",
    "    # Print the similarity scores for the top 5 most similar images\n",
    "    for i in top_indices:\n",
    "        sim_score.append(similarities[i])\n",
    "    \n",
    "    print(\"print similarity score\",sim_score)\n",
    "    return top_indices,sim_score\n",
    "\n",
    "\n",
    "\n",
    "# routes\n",
    "@app.route(\"/\", methods=['GET', 'POST'])\n",
    "def index():\n",
    "    images=[]\n",
    "    \n",
    "    return render_template(\"output.html\",images=images)\n",
    "\n",
    "\n",
    "@app.route(\"/submit\", methods = ['GET', 'POST'])\n",
    "def get_output():\n",
    "    input_features = None\n",
    "    similarities = None # Initialize similarities to None\n",
    "    if request.method == 'POST':\n",
    "        img = request.files['my_image']\n",
    "\n",
    "        img_path = \"static/\" + img.filename\t\n",
    "        print(img_path)\n",
    "        img.save(img_path)  \n",
    "        \n",
    "\n",
    "        input_features = predict_input(img_path)\n",
    "       \n",
    "        class_label = get_class_label(input_features)\n",
    "        \n",
    "        features_array = get_database_features(class_label)\n",
    "        \n",
    "        \n",
    "        get_similar_images(input_features, features_array)\n",
    "        top_indices , sim_score= get_similar_images(input_features, features_array)\n",
    "        similar_indices = top_indices.tolist()\n",
    "    \n",
    "        class_label = get_class_label(input_features)\n",
    "        image_collection = db[class_label]\n",
    "        print(image_collection)\n",
    "\n",
    "        print(top_indices)\n",
    "        images = []\n",
    "        metadata = []\n",
    "        data_list=[] \n",
    "        base64_strings=[]\n",
    "\n",
    "        for index in top_indices:\n",
    "#             print(index)\n",
    "            doc =image_collection.find_one({'index': int(index)})\n",
    "            print(\"hbaj\",doc)\n",
    "\n",
    "            if \"base64_string\" in doc:\n",
    "                base64_string = doc[\"base64_string\"]\n",
    "                if base64_string:\n",
    "                    print(f\"Base64 string for index {index} calculated successfully\")\n",
    "                    base64_strings.append(base64_string)\n",
    "              \n",
    "            if(class_label=='MarineDebris'):\n",
    "                meta= image_collection.find_one({'index': int(index)},{\"Date\":1,\"latlong\":1})\n",
    "                if meta:\n",
    "                    metadata.append({\n",
    "\n",
    "                        'Date': meta['Date'],\n",
    "                        'latlong':meta['latlong'],\n",
    "\n",
    "\n",
    "                        })\n",
    "            else:\n",
    "                meta= image_collection.find_one({'index': int(index)},{\"location\":1,\"Date\":1,\"latlong\":1,\"Satellite\":1})\n",
    "                if meta:\n",
    "                    metadata.append({\n",
    "                        'location':meta['location'],\n",
    "                        'Date': meta['Date'],\n",
    "                        'latlong':meta['latlong'],\n",
    "                        'Satellite':meta['Satellite']\n",
    "\n",
    "                        })\n",
    "                    \n",
    "        print(\"metedata printed\")            \n",
    "        print(\"get similar images\")\n",
    "        \n",
    "        print(metadata)\n",
    "        \n",
    "        \n",
    "    return render_template(\"output.html\",sim_score=sim_score,meta=meta,base64_string=base64_string,base64_strings=base64_strings, index=index,images=images, metadata=metadata,class_label=class_label,img_path=img_path,top_indices=top_indices)\n",
    "\n",
    "    \n",
    "if __name__ ==\"__main__\":\n",
    "\t#app.debug = True\n",
    "    app.run()"
   ]
  },
  {
   "cell_type": "code",
   "execution_count": 2,
   "id": "ba2e6dd6",
   "metadata": {
    "scrolled": true
   },
   "outputs": [
    {
     "name": "stdout",
     "output_type": "stream",
     "text": [
      "Collecting pymongoNote: you may need to restart the kernel to use updated packages.\n",
      "\n",
      "  Downloading pymongo-4.6.3-cp310-cp310-win_amd64.whl (472 kB)\n",
      "     -------------------------------------- 472.9/472.9 kB 1.2 MB/s eta 0:00:00\n",
      "Collecting dnspython<3.0.0,>=1.16.0\n",
      "  Downloading dnspython-2.6.1-py3-none-any.whl (307 kB)\n",
      "     ------------------------------------ 307.7/307.7 kB 576.5 kB/s eta 0:00:00\n",
      "Installing collected packages: dnspython, pymongo\n",
      "Successfully installed dnspython-2.6.1 pymongo-4.6.3\n"
     ]
    },
    {
     "name": "stderr",
     "output_type": "stream",
     "text": [
      "\n",
      "[notice] A new release of pip is available: 23.0.1 -> 24.0\n",
      "[notice] To update, run: C:\\Users\\DELL\\AppData\\Local\\Programs\\Python\\Python310\\python.exe -m pip install --upgrade pip\n"
     ]
    }
   ],
   "source": [
    "pip install pymongo\n"
   ]
  },
  {
   "cell_type": "code",
   "execution_count": 5,
   "id": "4a84680a",
   "metadata": {},
   "outputs": [
    {
     "name": "stdout",
     "output_type": "stream",
     "text": [
      "Note: you may need to restart the kernel to use updated packages.\n"
     ]
    },
    {
     "name": "stderr",
     "output_type": "stream",
     "text": [
      "ERROR: Could not find a version that satisfies the requirement flask_pymango (from versions: none)\n",
      "ERROR: No matching distribution found for flask_pymango\n"
     ]
    }
   ],
   "source": [
    "pip install flask_pymango\n"
   ]
  },
  {
   "cell_type": "code",
   "execution_count": 3,
   "id": "dab24a81",
   "metadata": {},
   "outputs": [
    {
     "ename": "SyntaxError",
     "evalue": "invalid syntax (294659197.py, line 1)",
     "output_type": "error",
     "traceback": [
      "\u001b[1;36m  Input \u001b[1;32mIn [3]\u001b[1;36m\u001b[0m\n\u001b[1;33m    -m pip install --upgrade pip\u001b[0m\n\u001b[1;37m       ^\u001b[0m\n\u001b[1;31mSyntaxError\u001b[0m\u001b[1;31m:\u001b[0m invalid syntax\n"
     ]
    }
   ],
   "source": [
    "-m pip install --upgrade pip\n"
   ]
  },
  {
   "cell_type": "code",
   "execution_count": 17,
   "id": "4e13e09d",
   "metadata": {},
   "outputs": [],
   "source": [
    "# import os\n",
    "# from PIL import Image\n",
    "\n",
    "# directory = r\"C:\\Users\\DELL\\Desktop\\yjftvjhb\"\n",
    "# for filename in os.listdir(directory):\n",
    "#     if filename.endswith(\".jpg\") or filename.endswith(\".png\"):\n",
    "#         image = Image.open(os.path.join(directory, filename))\n",
    "#         image = image.convert(\"RGB\")  # Remove the alpha channel\n",
    "#         new_filename = os.path.splitext(filename)[0] + \".jpeg\"\n",
    "#         image.save(os.path.join(directory, new_filename), \"JPEG\")"
   ]
  },
  {
   "cell_type": "code",
   "execution_count": null,
   "id": "7ad6aede",
   "metadata": {},
   "outputs": [],
   "source": []
  }
 ],
 "metadata": {
  "kernelspec": {
   "display_name": "Python 3 (ipykernel)",
   "language": "python",
   "name": "python3"
  },
  "language_info": {
   "codemirror_mode": {
    "name": "ipython",
    "version": 3
   },
   "file_extension": ".py",
   "mimetype": "text/x-python",
   "name": "python",
   "nbconvert_exporter": "python",
   "pygments_lexer": "ipython3",
   "version": "3.9.15"
  }
 },
 "nbformat": 4,
 "nbformat_minor": 5
}
